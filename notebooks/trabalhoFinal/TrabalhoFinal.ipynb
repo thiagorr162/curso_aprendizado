{
 "cells": [
  {
   "cell_type": "markdown",
   "id": "14b962e6-9980-4dab-a1d4-184385305ef0",
   "metadata": {},
   "source": [
    "# Classificação de Bons e Maus Pagadores\n",
    "\n",
    "Um cliente do setor financeiro forneceu um conjunto de dados contendo informações de diferentes clientes, com o objetivo de identificar bons e maus pagadores. Cada registro do dataset representa um cliente, descrito por diversas variáveis que indicam características financeiras e comportamentais, além da indicação se o cliente é um bom pagador (classe 0) ou mau pagador (classe 1).\n",
    "\n",
    "O cliente precisa de uma solução automatizada para classificar novos clientes em bons ou maus pagadores de forma eficaz, para otimizar processos de concessão de crédito e minimizar riscos financeiros.\n",
    "\n",
    "Por se tratar de decisões que envolvem dinheiro real e impacto direto nas operações da empresa, a solução deve atender aos seguintes requisitos essenciais:\n",
    "\n",
    "- **Desempenho preditivo confiável:** o modelo deve apresentar bom desempenho para garantir decisões adequadas em dados futuros.\n",
    "- **Interpretabilidade:** o cliente exige que a solução seja compreensível, de modo que os analistas possam identificar quais características influenciam as decisões e justificar os resultados internamente e para órgãos reguladores.\n",
    "- **Automação:** o processo deve ser automatizado, abrangendo desde o pré-processamento dos dados até a seleção das variáveis mais relevantes e a construção do modelo final.\n",
    "\n",
    "Sua tarefa é desenvolver uma solução automatizada que atenda a esses objetivos.\n",
    "\n",
    "A solução entregue deve conter código completo, organizado e documentado, facilitando sua integração ao fluxo operacional do cliente.\n"
   ]
  }
 ],
 "metadata": {
  "kernelspec": {
   "display_name": "Python 3 (ipykernel)",
   "language": "python",
   "name": "python3"
  },
  "language_info": {
   "codemirror_mode": {
    "name": "ipython",
    "version": 3
   },
   "file_extension": ".py",
   "mimetype": "text/x-python",
   "name": "python",
   "nbconvert_exporter": "python",
   "pygments_lexer": "ipython3",
   "version": "3.12.3"
  }
 },
 "nbformat": 4,
 "nbformat_minor": 5
}
