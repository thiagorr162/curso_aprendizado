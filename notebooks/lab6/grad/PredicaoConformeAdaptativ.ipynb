{
 "cells": [
  {
   "attachments": {},
   "cell_type": "markdown",
   "id": "8820a75b-2276-4966-9349-a4bbad6dcf97",
   "metadata": {},
   "source": [
    "### Predição conforme com boosting e partições locais\n",
    "\n",
    "Neste exercício, você irá aplicar Conformal Prediction em um conjunto de dados sintético com variância heterocedástica. O objetivo é construir intervalos de predição com nível de confiança $1 - \\alpha = 90\\%$, comparando a versão tradicional do método com uma versão adaptada baseada em partições locais.\n",
    "\n",
    "Use o seguinte gerador de dados:\n",
    "\n",
    "    import numpy as np\n",
    "    import pandas as pd\n",
    "\n",
    "    def make_variable_data(n, std_dev=1/5):\n",
    "        x = np.random.uniform(low=-1, high=1, size=n)\n",
    "        y = (x**3) + 2 * np.exp(-6 * (x - 0.3)**2)\n",
    "        y += np.random.normal(scale=std_dev * np.abs(x), size=n)\n",
    "        df = pd.DataFrame({'x': x, 'y': y})\n",
    "        return df\n",
    "\n",
    "    df = make_variable_data(300)\n",
    "\n",
    "Faça o seguinte:\n",
    "\n",
    "1. Divida os dados em três conjuntos: treino, calibração e teste. Depois divida o conjunto de calibração em duas metades.\n",
    "\n",
    "2. Treine um modelo de boosting com os dados de treino.\n",
    "\n",
    "3. Aplique o método Split Conformal Prediction tradicional:\n",
    "   - Calcule os resíduos absolutos no conjunto de calibração.\n",
    "   - Construa um intervalo simétrico ao redor da predição, usando o quantil ajustado dos resíduos.\n",
    "\n",
    "4. Agora construa intervalos locais adaptativos:\n",
    "   - Use a primeira metade da calibração para calcular os resíduos absolutos do modelo.\n",
    "   - Treine uma árvore de decisão para prever esses resíduos.\n",
    "   - Aplique a árvore na segunda metade da calibração e, para cada folha, calcule o quantil ajustado dos resíduos daquela região.\n",
    "   - Para cada ponto do teste, encontre a folha correspondente e construa o intervalo usando o quantil daquela região.\n",
    "\n",
    "5. Visualize os dois tipos de intervalo:\n",
    "   - Os intervalos simétricos tradicionais.\n",
    "   - Os intervalos locais adaptados por região.\n",
    "\n",
    "6. Compare visualmente e numericamente a cobertura dos dois métodos no conjunto de teste.\n"
   ]
  }
 ],
 "metadata": {
  "kernelspec": {
   "display_name": "Python 3 (ipykernel)",
   "language": "python",
   "name": "python3"
  },
  "language_info": {
   "codemirror_mode": {
    "name": "ipython",
    "version": 3
   },
   "file_extension": ".py",
   "mimetype": "text/x-python",
   "name": "python",
   "nbconvert_exporter": "python",
   "pygments_lexer": "ipython3",
   "version": "3.12.3"
  }
 },
 "nbformat": 4,
 "nbformat_minor": 5
}
