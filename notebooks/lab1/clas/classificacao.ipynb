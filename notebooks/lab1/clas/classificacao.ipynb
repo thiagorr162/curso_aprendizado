{
 "cells": [
  {
   "cell_type": "code",
   "execution_count": 6,
   "id": "936f0e2d-e128-497c-b66f-9472fd5a25f4",
   "metadata": {},
   "outputs": [],
   "source": [
    "# 1. Importar bibliotecas necessárias\n",
    "import numpy as np\n",
    "import pandas as pd\n",
    "import matplotlib.pyplot as plt\n",
    "import seaborn as sns\n",
    "\n",
    "from sklearn.model_selection import train_test_split\n",
    "from sklearn.linear_model import LogisticRegression\n",
    "from sklearn.metrics import confusion_matrix, roc_curve, auc\n"
   ]
  },
  {
   "cell_type": "code",
   "execution_count": 9,
   "id": "ca10205b-d2b1-4a4b-bfdb-284b08386ffe",
   "metadata": {},
   "outputs": [],
   "source": [
    "# 2. Carregar o dataset salvo\n",
    "df = pd.read_csv(\"dataset.csv\")\n",
    "\n",
    "# Separar variáveis explicativas e alvo\n",
    "# X = ...\n",
    "# y = ...\n"
   ]
  },
  {
   "cell_type": "code",
   "execution_count": 11,
   "id": "cdab6acd-b884-49b1-8d56-f00a28ba5376",
   "metadata": {},
   "outputs": [],
   "source": [
    "# 3. Dividir em treino e teste\n",
    "# Use stratify=y para manter o desbalanceamento nas duas partes\n",
    "# X_train, X_test, y_train, y_test = train_test_split(... stratify=y)\n"
   ]
  },
  {
   "cell_type": "code",
   "execution_count": 12,
   "id": "fff0a04e-daae-441b-a14c-8e101e03420d",
   "metadata": {},
   "outputs": [],
   "source": [
    "# 4. Treinar modelo de regressão logística\n",
    "# modelo = LogisticRegression()\n",
    "# modelo.fit(X_train, y_train)\n"
   ]
  },
  {
   "cell_type": "code",
   "execution_count": 13,
   "id": "a1939201-fb0b-467d-9604-d9c330d68ca4",
   "metadata": {},
   "outputs": [],
   "source": [
    "# # 5. Gerar previsões com threshold 0.5\n",
    "# y_proba = modelo.predict_proba(X_test)[:, 1]\n",
    "# y_pred = (y_proba >= 0.5).astype(int)\n"
   ]
  },
  {
   "cell_type": "code",
   "execution_count": 14,
   "id": "12ec5718-6ee0-4606-be5c-944883ddad9f",
   "metadata": {},
   "outputs": [],
   "source": [
    "# 6. Construir matriz de confusão\n",
    "# A partir da matriz, os alunos devem calcular manualmente: acurácia, precisão, recall e F1-score\n",
    "# matriz = confusion_matrix(y_test, y_pred)\n",
    "# print(\"Matriz de Confusão:\")\n",
    "# print(matriz)"
   ]
  },
  {
   "cell_type": "code",
   "execution_count": null,
   "id": "b6fabecc-3edb-486c-a19b-c62a080ef5fa",
   "metadata": {},
   "outputs": [],
   "source": [
    "# # 7. Plotar curva ROC e calcular AUC\n",
    "# fpr, tpr, thresholds = roc_curve(y_test, y_proba)\n",
    "# roc_auc = auc(fpr, tpr)\n",
    "\n",
    "# plt.figure(figsize=(6, 6))\n",
    "# plt.plot(fpr, tpr, label=f\"AUC = {roc_auc:.3f}\")\n",
    "# plt.plot([0, 1], [0, 1], 'k--')\n",
    "# plt.xlabel(\"FPR (Taxa de Falsos Positivos)\")\n",
    "# plt.ylabel(\"TPR (Revocação)\")\n",
    "# plt.title(\"Curva ROC\")\n",
    "# plt.legend(loc=\"lower right\")\n",
    "# plt.grid(True)\n",
    "# plt.tight_layout()\n",
    "# plt.show()"
   ]
  },
  {
   "cell_type": "code",
   "execution_count": 15,
   "id": "9eedfc4d-a8f2-4673-8300-4fd345afb14b",
   "metadata": {},
   "outputs": [],
   "source": [
    "# 9. Desafio: encontrar o melhor threshold com base no F1-score\n",
    "\n",
    "# a) Crie uma lista de thresholds entre 0 e 1 (ex: np.linspace(0, 1, 100))\n",
    "# thresholds = ...\n",
    "\n",
    "# b) Para cada threshold, calcule as previsões binárias e a matriz de confusão\n",
    "\n",
    "# c) A partir da matriz, calcule manualmente:\n",
    "#    - precisão = ...\n",
    "#    - recall   = ...\n",
    "#    - f1       = ...\n",
    "\n",
    "# d) Guarde o F1-score para cada threshold\n",
    "\n",
    "# e) Plote o gráfico do F1-score em função do threshold\n",
    "#    Isso ajuda a visualizar qual valor produz o melhor equilíbrio entre precisão e recall\n",
    "\n",
    "# f) Escolha o melhor threshold e refaça a matriz de confusão final\n"
   ]
  },
  {
   "cell_type": "code",
   "execution_count": null,
   "id": "cdfea683-3a6f-406c-878f-a8b010e0bd43",
   "metadata": {},
   "outputs": [],
   "source": []
  }
 ],
 "metadata": {
  "kernelspec": {
   "display_name": "Python 3 (ipykernel)",
   "language": "python",
   "name": "python3"
  },
  "language_info": {
   "codemirror_mode": {
    "name": "ipython",
    "version": 3
   },
   "file_extension": ".py",
   "mimetype": "text/x-python",
   "name": "python",
   "nbconvert_exporter": "python",
   "pygments_lexer": "ipython3",
   "version": "3.12.3"
  }
 },
 "nbformat": 4,
 "nbformat_minor": 5
}
