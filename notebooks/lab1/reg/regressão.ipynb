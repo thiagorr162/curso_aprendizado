{
 "cells": [
  {
   "cell_type": "code",
   "execution_count": 1,
   "id": "a7c65223-bc56-44f9-a94c-c36ed2871a79",
   "metadata": {},
   "outputs": [],
   "source": [
    "import pandas as pd"
   ]
  },
  {
   "cell_type": "code",
   "execution_count": 2,
   "id": "4b003e5e-b4eb-4181-bfc6-2638f4453985",
   "metadata": {},
   "outputs": [],
   "source": [
    "df = pd.read_csv(\"boston.csv\")"
   ]
  },
  {
   "cell_type": "markdown",
   "id": "726ea53c-9d9b-4df7-b8bb-9c980f3704a6",
   "metadata": {},
   "source": [
    "Os dados contêm as seguintes colunas:\n",
    "\n",
    "- **`crim`**: taxa de criminalidade per capita por cidade.  \n",
    "- **`zn`**: proporção de terrenos residenciais zoneados para lotes com mais de 25.000 pés².  \n",
    "- **`indus`**: proporção de acres com negócios não varejistas por cidade.  \n",
    "- **`chas`**: variável indicadora do Rio Charles (= 1 se o setor faz fronteira com o rio; 0 caso contrário).  \n",
    "- **`nox`**: concentração de óxidos de nitrogênio (partes por 10 milhões).  \n",
    "- **`rm`**: número médio de cômodos por residência.  \n",
    "- **`age`**: proporção de unidades ocupadas pelos proprietários construídas antes de 1940.  \n",
    "- **`dis`**: média ponderada das distâncias até cinco centros de emprego em Boston.  \n",
    "- **`rad`**: índice de acessibilidade a rodovias radiais.  \n",
    "- **`tax`**: taxa de imposto sobre propriedade com valor total por $10.000.  \n",
    "- **`ptratio`**: razão aluno-professor por cidade.  \n",
    "- **`lstat`**: percentual da população de menor status socioeconômico.\n",
    "- **`unkn`**: uma variável desconhecida que pode ou não ser útil para o modelo.\n",
    "- **`medv`**: valor mediano das residências ocupadas por proprietários (em milhares de dólares).\n",
    "\n",
    "\n",
    "Seu objetivo é utilizar as técnicas vistas em sala para aprender uma função para prever **medv**"
   ]
  },
  {
   "cell_type": "code",
   "execution_count": 3,
   "id": "ca5e6bb4-4383-4982-993a-888ae8634071",
   "metadata": {},
   "outputs": [],
   "source": [
    "# Imports necessários\n",
    "import numpy as np\n",
    "import matplotlib.pyplot as plt\n",
    "import seaborn as sns\n",
    "\n",
    "from sklearn.model_selection import train_test_split\n",
    "from sklearn.linear_model import LinearRegression\n",
    "from sklearn.preprocessing import PolynomialFeatures\n",
    "from sklearn.metrics import mean_squared_error"
   ]
  },
  {
   "cell_type": "markdown",
   "id": "da2b4d81-62ba-4f95-8f32-1365e7b1743b",
   "metadata": {},
   "source": [
    "Abaixo deixo alguns códigos que talvez sejam úteis"
   ]
  },
  {
   "cell_type": "code",
   "execution_count": 4,
   "id": "40c38bd2-f045-4011-bee5-0eea82890c48",
   "metadata": {},
   "outputs": [],
   "source": [
    "# 1. Carregar os dados\n",
    "# Se estiver usando o sklearn, use datasets.load_boston() (deprecated) ou outro carregamento adequado.\n",
    "# Você pode carregar de um arquivo CSV, por exemplo.\n",
    "\n",
    "# Exemplo com seaborn (Boston antigo): \n",
    "# boston = sns.load_dataset(\"boston\")  # caso tenha acesso\n",
    "# X = boston[['...']]  # variáveis explicativas (ex: número de cômodos)\n",
    "# Y = boston['medv']  # variável alvo"
   ]
  },
  {
   "cell_type": "code",
   "execution_count": 5,
   "id": "c8a64410-bee7-4a68-b104-03a6c2da3d20",
   "metadata": {},
   "outputs": [],
   "source": [
    "# 2. Visualizar os dados\n",
    "# Use scatterplot para ver a relação entre X e Y\n",
    "# Ex: sns.scatterplot(x=X[...], y=Y)"
   ]
  },
  {
   "cell_type": "code",
   "execution_count": 6,
   "id": "cd05ec79-ae27-4a0e-a34a-bebc8d90781d",
   "metadata": {},
   "outputs": [],
   "source": [
    "# 3. Separar os dados em treino e teste\n",
    "# Use train_test_split para dividir os dados em treino e teste\n",
    "# Ex: X_train, X_test, Y_train, Y_test = train_test_split(X, Y, test_size=0.2, random_state=42)\n"
   ]
  },
  {
   "cell_type": "code",
   "execution_count": 7,
   "id": "0f3e859a-c6f1-45a3-87fd-2a233d5b58dc",
   "metadata": {},
   "outputs": [],
   "source": [
    "# 4. Ajustar modelo de regressão linear\n",
    "# Criar e ajustar um modelo LinearRegression com os dados de treino\n",
    "# Ex: modelo = LinearRegression()\n",
    "#     modelo.fit(X_train, Y_train)"
   ]
  },
  {
   "cell_type": "code",
   "execution_count": 8,
   "id": "30770052-ce29-4730-a51c-85f068236f15",
   "metadata": {},
   "outputs": [],
   "source": [
    "# 5. Fazer previsões e avaliar o modelo\n",
    "# Usar o modelo para prever os dados de teste e calcular métricas como R² e RMSE\n",
    "# Ex: Y_pred = modelo.predict(X_test)\n",
    "#     r2_score(Y_test, Y_pred)\n",
    "#     mean_squared_error(Y_test, Y_pred)\n"
   ]
  },
  {
   "cell_type": "code",
   "execution_count": 9,
   "id": "28ca9960-3017-4923-b544-75db493da07f",
   "metadata": {},
   "outputs": [],
   "source": [
    "# 6. Repetir os passos com regressão polinomial\n",
    "# Criar PolynomialFeatures com grau 2 ou 3, transformar X, e ajustar o LinearRegression\n",
    "# Ex:\n",
    "#     poly = PolynomialFeatures(degree=2)\n",
    "#     X_poly = poly.fit_transform(X)\n",
    "#     modelo_poly = LinearRegression()\n",
    "#     modelo_poly.fit(X_poly_train, Y_train)...\n"
   ]
  },
  {
   "cell_type": "code",
   "execution_count": 10,
   "id": "e6d977ca-1ac3-4c36-a36d-d86ce4285525",
   "metadata": {},
   "outputs": [],
   "source": [
    "# 7. Visualizar os resultados da regressão polinomial\n",
    "# Gerar curva de predição para comparar com os dados reais\n",
    "# Plotar os pontos reais e a curva ajustada pelo modelo\n"
   ]
  },
  {
   "cell_type": "code",
   "execution_count": 11,
   "id": "4a62b6ab-6972-4eeb-8568-044197adc1b0",
   "metadata": {},
   "outputs": [],
   "source": [
    "# 8. Visualizar os coeficientes do modelo\n",
    "# Após treinar o modelo (modelo.fit), você pode acessar modelo.coef_ para ver os coeficientes\n",
    "# Ex:\n",
    "#     coeficientes = modelo.coef_\n",
    "#     nomes = X.columns  # ou uma lista manual, como ['rm']\n",
    "#     plt.bar(nomes, coeficientes)\n",
    "#     plt.ylabel(\"Coeficiente\")\n",
    "#     plt.title(\"Coeficientes da Regressão\")"
   ]
  }
 ],
 "metadata": {
  "kernelspec": {
   "display_name": "Python 3 (ipykernel)",
   "language": "python",
   "name": "python3"
  },
  "language_info": {
   "codemirror_mode": {
    "name": "ipython",
    "version": 3
   },
   "file_extension": ".py",
   "mimetype": "text/x-python",
   "name": "python",
   "nbconvert_exporter": "python",
   "pygments_lexer": "ipython3",
   "version": "3.12.3"
  }
 },
 "nbformat": 4,
 "nbformat_minor": 5
}
