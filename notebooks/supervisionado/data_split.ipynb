{
 "cells": [
  {
   "cell_type": "markdown",
   "id": "cf795eb3-4318-4c4d-b1d1-bd859d26df22",
   "metadata": {},
   "source": [
    "# Data split"
   ]
  },
  {
   "cell_type": "code",
   "execution_count": 2,
   "id": "5262a9d5-0f5c-4edd-87fe-301b69c84bee",
   "metadata": {},
   "outputs": [
    {
     "name": "stdout",
     "output_type": "stream",
     "text": [
      "Tamanho do treino: 500\n",
      "Tamanho da validação: 250\n",
      "Tamanho do teste: 250\n"
     ]
    }
   ],
   "source": [
    "from sklearn.datasets import make_regression\n",
    "from sklearn.model_selection import train_test_split\n",
    "\n",
    "# Gerar dados sintéticos de exemplo\n",
    "X, Y = make_regression(n_samples=1000, n_features=10, noise=0.1, random_state=42)\n",
    "\n",
    "# Primeira divisão: 50% para treino e 50% para o restante\n",
    "X_train, X_rest, Y_train, Y_rest = train_test_split(\n",
    "    X, Y, test_size=0.5, random_state=42)\n",
    "\n",
    "# Segunda divisão: dividir o restante igualmente entre validação e teste\n",
    "X_val, X_test, Y_val, Y_test = train_test_split(\n",
    "    X_rest, Y_rest, test_size=0.5, random_state=42)\n",
    "\n",
    "# Verificando os tamanhos das divisões\n",
    "print(f\"Tamanho do treino: {X_train.shape[0]}\")\n",
    "print(f\"Tamanho da validação: {X_val.shape[0]}\")\n",
    "print(f\"Tamanho do teste: {X_test.shape[0]}\")\n"
   ]
  },
  {
   "cell_type": "markdown",
   "id": "044e20bd-36b4-4d2f-9efa-570080aebc57",
   "metadata": {},
   "source": [
    "# K-fold"
   ]
  },
  {
   "cell_type": "code",
   "execution_count": 3,
   "id": "a739c817-95c9-4f02-9833-e86d06abdc95",
   "metadata": {},
   "outputs": [
    {
     "name": "stdout",
     "output_type": "stream",
     "text": [
      "X_train.shape=(80, 10), X_val.shape=(20, 10)\n",
      "X_train.shape=(80, 10), X_val.shape=(20, 10)\n",
      "X_train.shape=(80, 10), X_val.shape=(20, 10)\n",
      "X_train.shape=(80, 10), X_val.shape=(20, 10)\n",
      "X_train.shape=(80, 10), X_val.shape=(20, 10)\n"
     ]
    }
   ],
   "source": [
    "from sklearn.datasets import make_regression\n",
    "from sklearn.model_selection import KFold\n",
    "\n",
    "\n",
    "# Gerando dados artificiais de regressão\n",
    "X, Y = make_regression(n_samples=100, n_features=10, noise=10, random_state=42)\n",
    "\n",
    "# Configurando o k-fold\n",
    "k = 5\n",
    "kf = KFold(n_splits=k, shuffle=True, random_state=42)\n",
    "\n",
    "mse_scores = []\n",
    "\n",
    "# Loop pelos folds\n",
    "for fold, (train_index, val_index) in enumerate(kf.split(X)):\n",
    "    X_train, X_val = X[train_index], X[val_index]\n",
    "    Y_train, Y_val = Y[train_index], Y[val_index]\n",
    "    \n",
    "    print(f\"{X_train.shape=}, {X_val.shape=}\")"
   ]
  }
 ],
 "metadata": {
  "kernelspec": {
   "display_name": "Python 3 (ipykernel)",
   "language": "python",
   "name": "python3"
  },
  "language_info": {
   "codemirror_mode": {
    "name": "ipython",
    "version": 3
   },
   "file_extension": ".py",
   "mimetype": "text/x-python",
   "name": "python",
   "nbconvert_exporter": "python",
   "pygments_lexer": "ipython3",
   "version": "3.12.3"
  }
 },
 "nbformat": 4,
 "nbformat_minor": 5
}
